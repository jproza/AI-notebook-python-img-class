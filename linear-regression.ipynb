{
  "nbformat": 4,
  "nbformat_minor": 0,
  "metadata": {
    "colab": {
      "provenance": []
    },
    "kernelspec": {
      "name": "python3",
      "display_name": "Python 3"
    },
    "language_info": {
      "name": "python"
    },
    "accelerator": "GPU",
    "gpuClass": "standard"
  },
  "cells": [
    {
      "cell_type": "code",
      "execution_count": 203,
      "metadata": {
        "id": "Az8RikQHdnJP"
      },
      "outputs": [],
      "source": [
        "import numpy as np\n",
        "import pandas as pd\n",
        "from keras.preprocessing.image import ImageDataGenerator\n",
        "from keras_preprocessing.image import load_img\n",
        "from keras.utils import to_categorical\n",
        "from sklearn.model_selection import train_test_split\n",
        "import matplotlib.pyplot as plt\n",
        "import random\n",
        "import os"
      ]
    },
    {
      "cell_type": "code",
      "source": [
        "Image_Width=300\n",
        "Image_Height=300\n",
        "Image_Size=(Image_Width,Image_Height)\n",
        "Image_Channels=3"
      ],
      "metadata": {
        "id": "W8HqhSLYezNU"
      },
      "execution_count": 204,
      "outputs": []
    },
    {
      "cell_type": "code",
      "source": [
        "from google.colab import drive \n",
        "drive.mount('/content/gdrive')\n",
        "!apt install unzip\n",
        "!unzip \"/content/gdrive/MyDrive/Cannabis/female.zip\" -d \"/content/gdrive/MyDrive/Cannabis/female\"\n",
        "!unzip \"/content/gdrive/MyDrive/Cannabis/male.zip\" -d \"/content/gdrive/MyDrive/Cannabis/male\"\n"
      ],
      "metadata": {
        "colab": {
          "base_uri": "https://localhost:8080/"
        },
        "id": "7WmjZK8niIu-",
        "outputId": "98607922-9f2a-4154-a39c-134eca7ad82d"
      },
      "execution_count": 41,
      "outputs": [
        {
          "output_type": "stream",
          "name": "stdout",
          "text": [
            "Drive already mounted at /content/gdrive; to attempt to forcibly remount, call drive.mount(\"/content/gdrive\", force_remount=True).\n",
            "Reading package lists... Done\n",
            "Building dependency tree       \n",
            "Reading state information... Done\n",
            "unzip is already the newest version (6.0-21ubuntu1.2).\n",
            "The following package was automatically installed and is no longer required:\n",
            "  libnvidia-common-460\n",
            "Use 'apt autoremove' to remove it.\n",
            "0 upgraded, 0 newly installed, 0 to remove and 20 not upgraded.\n",
            "Archive:  /content/gdrive/MyDrive/Cannabis/female.zip\n",
            " extracting: /content/gdrive/MyDrive/Cannabis/female/vector.svg  \n",
            " extracting: /content/gdrive/MyDrive/Cannabis/female/vector2.svg  \n",
            " extracting: /content/gdrive/MyDrive/Cannabis/female/vector3.svg  \n",
            " extracting: /content/gdrive/MyDrive/Cannabis/female/vector4.svg  \n",
            " extracting: /content/gdrive/MyDrive/Cannabis/female/vector5.svg  \n",
            " extracting: /content/gdrive/MyDrive/Cannabis/female/vector6.svg  \n",
            " extracting: /content/gdrive/MyDrive/Cannabis/female/vector7.svg  \n",
            " extracting: /content/gdrive/MyDrive/Cannabis/female/vector8.svg  \n",
            " extracting: /content/gdrive/MyDrive/Cannabis/female/vector9.svg  \n",
            " extracting: /content/gdrive/MyDrive/Cannabis/female/vector10.svg  \n",
            " extracting: /content/gdrive/MyDrive/Cannabis/female/vector11.svg  \n",
            " extracting: /content/gdrive/MyDrive/Cannabis/female/vector12.svg  \n",
            " extracting: /content/gdrive/MyDrive/Cannabis/female/vector13.svg  \n",
            " extracting: /content/gdrive/MyDrive/Cannabis/female/vector14.svg  \n",
            " extracting: /content/gdrive/MyDrive/Cannabis/female/image.jpeg  \n",
            " extracting: /content/gdrive/MyDrive/Cannabis/female/image2.jpeg  \n",
            " extracting: /content/gdrive/MyDrive/Cannabis/female/image3.jpeg  \n",
            " extracting: /content/gdrive/MyDrive/Cannabis/female/image4.jpeg  \n",
            " extracting: /content/gdrive/MyDrive/Cannabis/female/image5.jpeg  \n",
            " extracting: /content/gdrive/MyDrive/Cannabis/female/image6.jpeg  \n",
            " extracting: /content/gdrive/MyDrive/Cannabis/female/image7.jpeg  \n",
            " extracting: /content/gdrive/MyDrive/Cannabis/female/image8.jpeg  \n",
            " extracting: /content/gdrive/MyDrive/Cannabis/female/image9.jpeg  \n",
            " extracting: /content/gdrive/MyDrive/Cannabis/female/image10.jpeg  \n",
            " extracting: /content/gdrive/MyDrive/Cannabis/female/image11.jpeg  \n",
            " extracting: /content/gdrive/MyDrive/Cannabis/female/image12.jpeg  \n",
            " extracting: /content/gdrive/MyDrive/Cannabis/female/image13.jpeg  \n",
            " extracting: /content/gdrive/MyDrive/Cannabis/female/blueberry-healthy-flowering-bud.jpg  \n",
            " extracting: /content/gdrive/MyDrive/Cannabis/female/images.jpg  \n",
            " extracting: /content/gdrive/MyDrive/Cannabis/female/images2.jpg  \n",
            " extracting: /content/gdrive/MyDrive/Cannabis/female/images3.jpg  \n",
            " extracting: /content/gdrive/MyDrive/Cannabis/female/images4.jpg  \n",
            " extracting: /content/gdrive/MyDrive/Cannabis/female/images5.jpg  \n",
            " extracting: /content/gdrive/MyDrive/Cannabis/female/images6.jpg  \n",
            " extracting: /content/gdrive/MyDrive/Cannabis/female/images7.jpg  \n",
            " extracting: /content/gdrive/MyDrive/Cannabis/female/images8.jpg  \n",
            " extracting: /content/gdrive/MyDrive/Cannabis/female/images9.jpg  \n",
            " extracting: /content/gdrive/MyDrive/Cannabis/female/images10.jpg  \n",
            " extracting: /content/gdrive/MyDrive/Cannabis/female/images11.jpg  \n",
            " extracting: /content/gdrive/MyDrive/Cannabis/female/images12.jpg  \n",
            " extracting: /content/gdrive/MyDrive/Cannabis/female/images13.jpg  \n",
            " extracting: /content/gdrive/MyDrive/Cannabis/female/images14.jpg  \n",
            " extracting: /content/gdrive/MyDrive/Cannabis/female/images15.jpg  \n",
            " extracting: /content/gdrive/MyDrive/Cannabis/female/images16.jpg  \n",
            " extracting: /content/gdrive/MyDrive/Cannabis/female/images17.jpg  \n",
            " extracting: /content/gdrive/MyDrive/Cannabis/female/images18.jpg  \n",
            " extracting: /content/gdrive/MyDrive/Cannabis/female/seedling-1062908__480.jpg  \n",
            " extracting: /content/gdrive/MyDrive/Cannabis/female/images19.jpg  \n",
            " extracting: /content/gdrive/MyDrive/Cannabis/female/images20.jpg  \n",
            " extracting: /content/gdrive/MyDrive/Cannabis/female/images21.jpg  \n",
            " extracting: /content/gdrive/MyDrive/Cannabis/female/images22.jpg  \n",
            " extracting: /content/gdrive/MyDrive/Cannabis/female/images23.jpg  \n",
            " extracting: /content/gdrive/MyDrive/Cannabis/female/images24.jpg  \n",
            " extracting: /content/gdrive/MyDrive/Cannabis/female/images25.jpg  \n",
            " extracting: /content/gdrive/MyDrive/Cannabis/female/images26.jpg  \n",
            " extracting: /content/gdrive/MyDrive/Cannabis/female/images27.jpg  \n",
            " extracting: /content/gdrive/MyDrive/Cannabis/female/500_F_268826717_SrElAxsFQUL8nrbk1RM2DLjdhnHOE8hX.jpg  \n",
            " extracting: /content/gdrive/MyDrive/Cannabis/female/1000_F_292508930_RzM5pX9UXykZDFAJ1f9IZX9zzVIgjv50.jpg  \n",
            " extracting: /content/gdrive/MyDrive/Cannabis/female/1000_F_292330667_Uhdapjmglsq2qy7xZDDrjOto2bxezkVK.jpg  \n",
            " extracting: /content/gdrive/MyDrive/Cannabis/female/1000_F_271631024_D6ANbXyIKKplr7pMw08oFtPFHw5tsKqv.jpg  \n",
            " extracting: /content/gdrive/MyDrive/Cannabis/female/1.jpg  \n",
            " extracting: /content/gdrive/MyDrive/Cannabis/female/1000_F_268826825_1SRuevbtUVd2P9wyl00QNAgqN2aHBms3.jpg  \n",
            " extracting: /content/gdrive/MyDrive/Cannabis/female/images28.jpg  \n",
            " extracting: /content/gdrive/MyDrive/Cannabis/female/images29.jpg  \n",
            " extracting: /content/gdrive/MyDrive/Cannabis/female/images30.jpg  \n",
            " extracting: /content/gdrive/MyDrive/Cannabis/female/images31.jpg  \n",
            " extracting: /content/gdrive/MyDrive/Cannabis/female/images32.jpg  \n",
            " extracting: /content/gdrive/MyDrive/Cannabis/female/images33.jpg  \n",
            " extracting: /content/gdrive/MyDrive/Cannabis/female/images34.jpg  \n",
            " extracting: /content/gdrive/MyDrive/Cannabis/female/images35.jpg  \n",
            " extracting: /content/gdrive/MyDrive/Cannabis/female/images36.jpg  \n",
            " extracting: /content/gdrive/MyDrive/Cannabis/female/images37.jpg  \n",
            " extracting: /content/gdrive/MyDrive/Cannabis/female/images38.jpg  \n",
            " extracting: /content/gdrive/MyDrive/Cannabis/female/images39.jpg  \n",
            " extracting: /content/gdrive/MyDrive/Cannabis/female/images40.jpg  \n",
            " extracting: /content/gdrive/MyDrive/Cannabis/female/images41.jpg  \n",
            " extracting: /content/gdrive/MyDrive/Cannabis/female/images42.jpg  \n",
            " extracting: /content/gdrive/MyDrive/Cannabis/female/images43.jpg  \n",
            " extracting: /content/gdrive/MyDrive/Cannabis/female/images44.jpg  \n",
            " extracting: /content/gdrive/MyDrive/Cannabis/female/images45.jpg  \n",
            " extracting: /content/gdrive/MyDrive/Cannabis/female/images46.jpg  \n",
            " extracting: /content/gdrive/MyDrive/Cannabis/female/images47.jpg  \n",
            " extracting: /content/gdrive/MyDrive/Cannabis/female/images48.jpg  \n",
            " extracting: /content/gdrive/MyDrive/Cannabis/female/images49.jpg  \n",
            " extracting: /content/gdrive/MyDrive/Cannabis/female/images50.jpg  \n",
            " extracting: /content/gdrive/MyDrive/Cannabis/female/images51.jpg  \n",
            " extracting: /content/gdrive/MyDrive/Cannabis/female/images52.jpg  \n",
            " extracting: /content/gdrive/MyDrive/Cannabis/female/images53.jpg  \n",
            " extracting: /content/gdrive/MyDrive/Cannabis/female/images54.jpg  \n",
            " extracting: /content/gdrive/MyDrive/Cannabis/female/images55.jpg  \n",
            " extracting: /content/gdrive/MyDrive/Cannabis/female/images56.jpg  \n",
            " extracting: /content/gdrive/MyDrive/Cannabis/female/images57.jpg  \n",
            " extracting: /content/gdrive/MyDrive/Cannabis/female/images58.jpg  \n",
            " extracting: /content/gdrive/MyDrive/Cannabis/female/images59.jpg  \n",
            " extracting: /content/gdrive/MyDrive/Cannabis/female/images60.jpg  \n",
            " extracting: /content/gdrive/MyDrive/Cannabis/female/images61.jpg  \n",
            " extracting: /content/gdrive/MyDrive/Cannabis/female/images62.jpg  \n",
            " extracting: /content/gdrive/MyDrive/Cannabis/female/images63.jpg  \n",
            " extracting: /content/gdrive/MyDrive/Cannabis/female/images64.jpg  \n",
            " extracting: /content/gdrive/MyDrive/Cannabis/female/images65.jpg  \n",
            " extracting: /content/gdrive/MyDrive/Cannabis/female/images66.jpg  \n",
            " extracting: /content/gdrive/MyDrive/Cannabis/female/images67.jpg  \n",
            " extracting: /content/gdrive/MyDrive/Cannabis/female/images68.jpg  \n",
            " extracting: /content/gdrive/MyDrive/Cannabis/female/images69.jpg  \n",
            " extracting: /content/gdrive/MyDrive/Cannabis/female/images70.jpg  \n",
            " extracting: /content/gdrive/MyDrive/Cannabis/female/images71.jpg  \n",
            " extracting: /content/gdrive/MyDrive/Cannabis/female/images72.jpg  \n",
            " extracting: /content/gdrive/MyDrive/Cannabis/female/images73.jpg  \n",
            " extracting: /content/gdrive/MyDrive/Cannabis/female/images74.jpg  \n",
            " extracting: /content/gdrive/MyDrive/Cannabis/female/images75.jpg  \n",
            " extracting: /content/gdrive/MyDrive/Cannabis/female/images76.jpg  \n",
            " extracting: /content/gdrive/MyDrive/Cannabis/female/images77.jpg  \n",
            " extracting: /content/gdrive/MyDrive/Cannabis/female/images78.jpg  \n",
            " extracting: /content/gdrive/MyDrive/Cannabis/female/images79.jpg  \n",
            " extracting: /content/gdrive/MyDrive/Cannabis/female/images80.jpg  \n",
            " extracting: /content/gdrive/MyDrive/Cannabis/female/images81.jpg  \n",
            " extracting: /content/gdrive/MyDrive/Cannabis/female/images82.jpg  \n",
            " extracting: /content/gdrive/MyDrive/Cannabis/female/images83.jpg  \n",
            " extracting: /content/gdrive/MyDrive/Cannabis/female/images84.jpg  \n",
            " extracting: /content/gdrive/MyDrive/Cannabis/female/images85.jpg  \n",
            " extracting: /content/gdrive/MyDrive/Cannabis/female/6oesR5NI26NqHMUMQ0T9sCDMKcZqsYkqJSvelPsv.jpg  \n",
            " extracting: /content/gdrive/MyDrive/Cannabis/female/-breakthrough-in-plant-medicine_fi_vead960aca0ca2e54673c7808fbc0e49018b75727.jpg  \n",
            " extracting: /content/gdrive/MyDrive/Cannabis/female/mature-cannabis-plant-picture_csp43711614.jpg  \n",
            " extracting: /content/gdrive/MyDrive/Cannabis/female/nice-bud-of-green-mature-cannabis-female-stock-photography_csp48907402.jpg  \n",
            " extracting: /content/gdrive/MyDrive/Cannabis/female/mature-cannabis-plant-picture_csp43711714.jpg  \n",
            " extracting: /content/gdrive/MyDrive/Cannabis/female/12.jpg  \n",
            " extracting: /content/gdrive/MyDrive/Cannabis/female/top-of-green-mature-cannabis-female-stock-image_csp44781561.jpg  \n",
            " extracting: /content/gdrive/MyDrive/Cannabis/female/192px.svg  \n",
            " extracting: /content/gdrive/MyDrive/Cannabis/female/AOh-ky3xSzwUGgV122bnXNTO4KAcfPeRzCFukpxE4LomFgs64-c-mo.jpg  \n",
            " extracting: /content/gdrive/MyDrive/Cannabis/female/58415500.jpg  \n",
            " extracting: /content/gdrive/MyDrive/Cannabis/female/t-Streetwear-Dresses-Female-Pretty-Skate-Dress-Summer-Graphic-Clothing-Large.jpg  \n",
            " extracting: /content/gdrive/MyDrive/Cannabis/female/young-female-cannabis-buds-22011997.jpg  \n",
            " extracting: /content/gdrive/MyDrive/Cannabis/female/Cannabis_female.jpg  \n",
            " extracting: /content/gdrive/MyDrive/Cannabis/female/cannabis-leaves-buds-portrait-female-plant-young-159202221.jpg  \n",
            " extracting: /content/gdrive/MyDrive/Cannabis/female/marijuana-mother-plant-cannabis-female-flower-leaf-178599058.jpg  \n",
            " extracting: /content/gdrive/MyDrive/Cannabis/female/portrait-female-cannabis-plant-young-leaves-buds-cannabis-leaves-buds-159202236.jpg  \n",
            " extracting: /content/gdrive/MyDrive/Cannabis/female/41-415041_female-cannabis-plant-01-botanical-infographic.png  \n",
            " extracting: /content/gdrive/MyDrive/Cannabis/female/618xHAMWfL._AC_UF8941000_QL80_.jpg  \n",
            " extracting: /content/gdrive/MyDrive/Cannabis/female/cannabis-female-flower-pistil-768x1024.jpg  \n",
            " extracting: /content/gdrive/MyDrive/Cannabis/female/221125131146-marijuana-plants.jpg  \n",
            " extracting: /content/gdrive/MyDrive/Cannabis/female/181147ee3df40d289266794a2f6e32d3_6006e3974f1ffc309e19a06fc715ceaf.jpg  \n",
            " extracting: /content/gdrive/MyDrive/Cannabis/female/Cannabis_ruderalis_28wild_marijuana2C_female29.jpg  \n",
            " extracting: /content/gdrive/MyDrive/Cannabis/female/Pre-Flowering-Female-Marijuana.jpg  \n",
            " extracting: /content/gdrive/MyDrive/Cannabis/female/c9ccdc2c194291cd8db940437c3ed218_e8e7fc7dfea361c21aa831294f3e7508.jpg  \n",
            " extracting: /content/gdrive/MyDrive/Cannabis/female/618xHAMWfL.jpg  \n",
            " extracting: /content/gdrive/MyDrive/Cannabis/female/depositphotos_137347132-stock-photo-mature-cannabis-plant.jpg  \n",
            " extracting: /content/gdrive/MyDrive/Cannabis/female/138279011_115136133797672_9148976075439560217_n-1.jpg  \n",
            " extracting: /content/gdrive/MyDrive/Cannabis/female/detail-of-cannabis-female-plant-indica-dominant-hybrid-in-vegetative-KN7491.jpg  \n",
            " extracting: /content/gdrive/MyDrive/Cannabis/female/top-of-cannabis-female-plant-indica-dominant-hybrid-in-early-flowering-KN3DHM.jpg  \n",
            " extracting: /content/gdrive/MyDrive/Cannabis/female/bigstock-Marijuana-Plant-Cannabis-Sati-331426780.jpg  \n",
            " extracting: /content/gdrive/MyDrive/Cannabis/female/100-e9e5ffcd0920f7e50fd7d6f089e836dfd8f1c493c1672086c4bf2889c708f7b8.jpg  \n",
            " extracting: /content/gdrive/MyDrive/Cannabis/female/depositphotos_189612502-stock-photo-mature-cannabis-plant.jpg  \n",
            " extracting: /content/gdrive/MyDrive/Cannabis/female/top-of-cannabis-plant.jpg  \n",
            " extracting: /content/gdrive/MyDrive/Cannabis/female/depositphotos_223382084-stock-photo-beautiful-closeup-white-tricones-ready.jpg  \n",
            " extracting: /content/gdrive/MyDrive/Cannabis/female/depositphotos_51066159-stock-photo-cannabis-plant-in-flowerpot.jpg  \n",
            " extracting: /content/gdrive/MyDrive/Cannabis/female/depositphotos_520770008-stock-photo-ripe-cannabis-plant-macro-northern.jpg  \n",
            " extracting: /content/gdrive/MyDrive/Cannabis/female/3a1166_a8696958e21c49bf84d415cba39ce706.jpeg  \n",
            " extracting: /content/gdrive/MyDrive/Cannabis/female/1200x0.jpg  \n",
            " extracting: /content/gdrive/MyDrive/Cannabis/female/-up-of-a-cannabis-leaf-and-female-flowers-medical-marijuana-grown-plants-hyb.jpg  \n",
            " extracting: /content/gdrive/MyDrive/Cannabis/female/71795362-big-main-top-bud-of-mature-female-cannabis-plant-on-black-background-.jpg  \n",
            " extracting: /content/gdrive/MyDrive/Cannabis/female/388852009.jpg  \n",
            " extracting: /content/gdrive/MyDrive/Cannabis/female/female-marijuana-plant-pijia256nnjultyai919sluiidsip5xamba46hrc6o.jpg  \n",
            " extracting: /content/gdrive/MyDrive/Cannabis/female/71727954-big-main-top-bud-of-mature-female-cannabis-plant-on-black-background-.jpg  \n",
            " extracting: /content/gdrive/MyDrive/Cannabis/female/hemp-cannabis-bud-plant-blooming-female-marijuana-flower-and-leafs-growing-free-video.jpg  \n",
            " extracting: /content/gdrive/MyDrive/Cannabis/female/planting-pot-thc-cbd-for-medical-purpose-growing-soil-cultivated-plant-video.jpg  \n",
            " extracting: /content/gdrive/MyDrive/Cannabis/female/the-female-hemp-plant-cannabis-foemina-elizabeth-blackwell.jpg  \n",
            " extracting: /content/gdrive/MyDrive/Cannabis/female/246124786.jpg  \n",
            " extracting: /content/gdrive/MyDrive/Cannabis/female/cannabis-female-plant-in-flowerpot-indica-dominant-hybrid-in-early-JBP4CW.jpg  \n",
            " extracting: /content/gdrive/MyDrive/Cannabis/female/cotta-like-pot-with-delicate-fresh-leaves-with-serrate-three-leaflet-2D3EH84.jpg  \n",
            " extracting: /content/gdrive/MyDrive/Cannabis/female/top-of-cannabis-female-plant-indica-dominant-hybrid-in-early-flowering-JBT0X7.jpg  \n",
            " extracting: /content/gdrive/MyDrive/Cannabis/female/cannabis-marijuana-young-female-plants-before-setting-buds-growing-outdoors-MJP6YJ.jpg  \n",
            " extracting: /content/gdrive/MyDrive/Cannabis/female/246124864.jpg  \n",
            " extracting: /content/gdrive/MyDrive/Cannabis/female/-indica-weed-strain-herb-young-weed-plant-temperature-humidity-control-video.jpg  \n",
            " extracting: /content/gdrive/MyDrive/Cannabis/female/hern-light-blooming-female-marijuana-flower-and-leafs-growing-in-homemade-ga.jpg  \n",
            " extracting: /content/gdrive/MyDrive/Cannabis/female/65567949-blooming-female-cannabis-indica-plant-.jpg  \n",
            " extracting: /content/gdrive/MyDrive/Cannabis/female/marijuana-bud-pistils-cannabis-female-073001133_prevstill.jpeg  \n",
            " extracting: /content/gdrive/MyDrive/Cannabis/female/esy-046228262.jpg  \n",
            " extracting: /content/gdrive/MyDrive/Cannabis/female/Hydroponically-grown-Cannabis-plants-16-weeks-old-plants-in-15-15-20-cm-pots.png  \n",
            " extracting: /content/gdrive/MyDrive/Cannabis/female/ymzoot7ztpwiyjrltzvq.jpg  \n",
            " extracting: /content/gdrive/MyDrive/Cannabis/female/esy-023969860.jpg  \n",
            " extracting: /content/gdrive/MyDrive/Cannabis/female/Unfertilized-female-cannabis-flower-photograph-courtesy-of-GW-Pharmaceuticals.png  \n",
            " extracting: /content/gdrive/MyDrive/Cannabis/female/closeup-cannabis-female-plant-flowering-blooming-cannabis-plant-background-flat-la_298352-779.jpg  \n",
            " extracting: /content/gdrive/MyDrive/Cannabis/female/A-female-C-sativa-B-portion-of-the-female-flowers-C-pistillate-female-flower.png  \n",
            " extracting: /content/gdrive/MyDrive/Cannabis/female/l9rddk89p8ztwetmxeti.jpg  \n",
            " extracting: /content/gdrive/MyDrive/Cannabis/female/esy-023969850.jpg  \n",
            " extracting: /content/gdrive/MyDrive/Cannabis/female/looming-marijuana-organic-cannabis-sativa-female-plants-with-cbd_202769-9380.jpg  \n",
            " extracting: /content/gdrive/MyDrive/Cannabis/female/buds-green-leaves-organic-cannabis-sativa-female-plants-with-cbd_202769-9379.jpg  \n",
            " extracting: /content/gdrive/MyDrive/Cannabis/female/4-Figure2-1.png  \n",
            " extracting: /content/gdrive/MyDrive/Cannabis/female/cannabis-female-plant.jpg  \n",
            " extracting: /content/gdrive/MyDrive/Cannabis/female/looming-marijuana-organic-cannabis-sativa-female-plants-with-cbd_202769-9444.jpg  \n",
            " extracting: /content/gdrive/MyDrive/Cannabis/female/5-Figure3-1.png  \n",
            " extracting: /content/gdrive/MyDrive/Cannabis/female/7-Figure5-1.png  \n",
            " extracting: /content/gdrive/MyDrive/Cannabis/female/female-scientist-research-record-data-from-gratifying-cannabis-plant-pot_31965-53609.jpg  \n",
            " extracting: /content/gdrive/MyDrive/Cannabis/female/gettyimages-1148304804.jpg  \n",
            " extracting: /content/gdrive/MyDrive/Cannabis/female/Flowering-Female-Marijuana-Plant.jpg  \n",
            " extracting: /content/gdrive/MyDrive/Cannabis/female/Female_cannabis_plants_in_the_vegetative_28pre-bloom29_phase.jpg  \n",
            " extracting: /content/gdrive/MyDrive/Cannabis/female/papergc500xwf8f8f8-pad750x1000f8f8f8.jpg  \n",
            " extracting: /content/gdrive/MyDrive/Cannabis/female/flower_md_farms_photo_credit_jennifer_skog_009.jpg  \n",
            " extracting: /content/gdrive/MyDrive/Cannabis/female/Cannabis_sativa_28female29.JPG.jpg  \n",
            " extracting: /content/gdrive/MyDrive/Cannabis/female/stock-photo-green-young-flowering-female-cannabis-plant-single-top-bud-451994326.jpg  \n",
            " extracting: /content/gdrive/MyDrive/Cannabis/female/10429669.jpg  \n",
            " extracting: /content/gdrive/MyDrive/Cannabis/female/marijuana-or-weed-plant-in-the-early-stages-of-flowering-as-white-1359702602.jpg  \n",
            " extracting: /content/gdrive/MyDrive/Cannabis/female/Jackie-Bryant-Cannabis-plant.jpg  \n",
            " extracting: /content/gdrive/MyDrive/Cannabis/female/nirit-bernstein.jpg  \n",
            " extracting: /content/gdrive/MyDrive/Cannabis/female/kera-medical-buddha-female-5-marijuana-seeds-28498-p.png  \n",
            " extracting: /content/gdrive/MyDrive/Cannabis/female/heliojack.jpg  \n",
            " extracting: /content/gdrive/MyDrive/Cannabis/female/how-do-you-define-an-immature-cannabis-plant.jpg  \n",
            " extracting: /content/gdrive/MyDrive/Cannabis/female/reeferman-genetics-g13-female-cannabis-seeds.jpg  \n",
            "Archive:  /content/gdrive/MyDrive/Cannabis/male.zip\n",
            " extracting: /content/gdrive/MyDrive/Cannabis/male/vector.svg  \n",
            " extracting: /content/gdrive/MyDrive/Cannabis/male/vector2.svg  \n",
            " extracting: /content/gdrive/MyDrive/Cannabis/male/vector3.svg  \n",
            " extracting: /content/gdrive/MyDrive/Cannabis/male/vector4.svg  \n",
            " extracting: /content/gdrive/MyDrive/Cannabis/male/vector5.svg  \n",
            " extracting: /content/gdrive/MyDrive/Cannabis/male/vector6.svg  \n",
            " extracting: /content/gdrive/MyDrive/Cannabis/male/vector7.svg  \n",
            " extracting: /content/gdrive/MyDrive/Cannabis/male/vector8.svg  \n",
            " extracting: /content/gdrive/MyDrive/Cannabis/male/vector9.svg  \n",
            " extracting: /content/gdrive/MyDrive/Cannabis/male/vector10.svg  \n",
            " extracting: /content/gdrive/MyDrive/Cannabis/male/vector11.svg  \n",
            " extracting: /content/gdrive/MyDrive/Cannabis/male/vector12.svg  \n",
            " extracting: /content/gdrive/MyDrive/Cannabis/male/vector13.svg  \n",
            " extracting: /content/gdrive/MyDrive/Cannabis/male/vector14.svg  \n",
            " extracting: /content/gdrive/MyDrive/Cannabis/male/image.jpeg  \n",
            " extracting: /content/gdrive/MyDrive/Cannabis/male/image2.jpeg  \n",
            " extracting: /content/gdrive/MyDrive/Cannabis/male/image3.jpeg  \n",
            " extracting: /content/gdrive/MyDrive/Cannabis/male/image4.jpeg  \n",
            " extracting: /content/gdrive/MyDrive/Cannabis/male/image5.jpeg  \n",
            " extracting: /content/gdrive/MyDrive/Cannabis/male/image6.jpeg  \n",
            " extracting: /content/gdrive/MyDrive/Cannabis/male/image7.jpeg  \n",
            " extracting: /content/gdrive/MyDrive/Cannabis/male/image8.jpeg  \n",
            " extracting: /content/gdrive/MyDrive/Cannabis/male/image9.jpeg  \n",
            " extracting: /content/gdrive/MyDrive/Cannabis/male/image10.jpeg  \n",
            " extracting: /content/gdrive/MyDrive/Cannabis/male/image11.jpeg  \n",
            " extracting: /content/gdrive/MyDrive/Cannabis/male/image12.jpeg  \n",
            " extracting: /content/gdrive/MyDrive/Cannabis/male/image13.jpeg  \n",
            " extracting: /content/gdrive/MyDrive/Cannabis/male/image14.jpeg  \n",
            " extracting: /content/gdrive/MyDrive/Cannabis/male/image15.jpeg  \n",
            " extracting: /content/gdrive/MyDrive/Cannabis/male/image16.jpeg  \n",
            " extracting: /content/gdrive/MyDrive/Cannabis/male/image17.jpeg  \n",
            " extracting: /content/gdrive/MyDrive/Cannabis/male/image18.jpeg  \n",
            " extracting: /content/gdrive/MyDrive/Cannabis/male/image19.jpeg  \n",
            " extracting: /content/gdrive/MyDrive/Cannabis/male/image20.jpeg  \n",
            " extracting: /content/gdrive/MyDrive/Cannabis/male/image21.jpeg  \n",
            " extracting: /content/gdrive/MyDrive/Cannabis/male/images.jpg  \n",
            " extracting: /content/gdrive/MyDrive/Cannabis/male/images2.jpg  \n",
            " extracting: /content/gdrive/MyDrive/Cannabis/male/images3.jpg  \n",
            " extracting: /content/gdrive/MyDrive/Cannabis/male/images4.jpg  \n",
            " extracting: /content/gdrive/MyDrive/Cannabis/male/images5.jpg  \n",
            " extracting: /content/gdrive/MyDrive/Cannabis/male/images6.jpg  \n",
            " extracting: /content/gdrive/MyDrive/Cannabis/male/images7.jpg  \n",
            " extracting: /content/gdrive/MyDrive/Cannabis/male/images8.jpg  \n",
            " extracting: /content/gdrive/MyDrive/Cannabis/male/images9.jpg  \n",
            " extracting: /content/gdrive/MyDrive/Cannabis/male/images10.jpg  \n",
            " extracting: /content/gdrive/MyDrive/Cannabis/male/images11.jpg  \n",
            " extracting: /content/gdrive/MyDrive/Cannabis/male/images12.jpg  \n",
            " extracting: /content/gdrive/MyDrive/Cannabis/male/images13.jpg  \n",
            " extracting: /content/gdrive/MyDrive/Cannabis/male/images14.jpg  \n",
            " extracting: /content/gdrive/MyDrive/Cannabis/male/images15.jpg  \n",
            " extracting: /content/gdrive/MyDrive/Cannabis/male/images16.jpg  \n",
            " extracting: /content/gdrive/MyDrive/Cannabis/male/images17.jpg  \n",
            " extracting: /content/gdrive/MyDrive/Cannabis/male/images18.jpg  \n",
            " extracting: /content/gdrive/MyDrive/Cannabis/male/images19.jpg  \n",
            " extracting: /content/gdrive/MyDrive/Cannabis/male/images20.jpg  \n",
            " extracting: /content/gdrive/MyDrive/Cannabis/male/images21.jpg  \n",
            " extracting: /content/gdrive/MyDrive/Cannabis/male/images22.jpg  \n",
            " extracting: /content/gdrive/MyDrive/Cannabis/male/images23.jpg  \n",
            " extracting: /content/gdrive/MyDrive/Cannabis/male/images24.jpg  \n",
            " extracting: /content/gdrive/MyDrive/Cannabis/male/images25.jpg  \n",
            " extracting: /content/gdrive/MyDrive/Cannabis/male/images26.jpg  \n",
            " extracting: /content/gdrive/MyDrive/Cannabis/male/1000_F_277393096_eV16re4dfKtrRlxrkKM5mnzE7EhocyG7.jpg  \n",
            " extracting: /content/gdrive/MyDrive/Cannabis/male/Male-cannabis-flowering-and-making-pollen.jpg  \n",
            " extracting: /content/gdrive/MyDrive/Cannabis/male/male-cannabis-flowers-against-a-blue-outdoor-sky-dutch-passion.jpg  \n",
            " extracting: /content/gdrive/MyDrive/Cannabis/male/images27.jpg  \n",
            " extracting: /content/gdrive/MyDrive/Cannabis/male/1000_F_277393547_YNam1IiZv12hm2cZAU2USB2zCZFi2gYR.jpg  \n",
            " extracting: /content/gdrive/MyDrive/Cannabis/male/images28.jpg  \n",
            " extracting: /content/gdrive/MyDrive/Cannabis/male/images29.jpg  \n",
            " extracting: /content/gdrive/MyDrive/Cannabis/male/1000_F_295105381_FaVrLE1O8zVbGpfsL8QJP32NPoniZZUf.jpg  \n",
            " extracting: /content/gdrive/MyDrive/Cannabis/male/1000_F_277393579_tYSf1f2b1nYsPgCLtorWYrhObatpf7QP.jpg  \n",
            " extracting: /content/gdrive/MyDrive/Cannabis/male/images30.jpg  \n",
            " extracting: /content/gdrive/MyDrive/Cannabis/male/images31.jpg  \n",
            " extracting: /content/gdrive/MyDrive/Cannabis/male/images32.jpg  \n",
            " extracting: /content/gdrive/MyDrive/Cannabis/male/images33.jpg  \n",
            " extracting: /content/gdrive/MyDrive/Cannabis/male/192px.svg  \n",
            " extracting: /content/gdrive/MyDrive/Cannabis/male/images34.jpg  \n",
            " extracting: /content/gdrive/MyDrive/Cannabis/male/AOh-ky3xSzwUGgV122bnXNTO4KAcfPeRzCFukpxE4LomFgs64-c-mo.jpg  \n",
            " extracting: /content/gdrive/MyDrive/Cannabis/male/images35.jpg  \n",
            " extracting: /content/gdrive/MyDrive/Cannabis/male/images36.jpg  \n",
            " extracting: /content/gdrive/MyDrive/Cannabis/male/images37.jpg  \n",
            " extracting: /content/gdrive/MyDrive/Cannabis/male/images38.jpg  \n",
            " extracting: /content/gdrive/MyDrive/Cannabis/male/its-havest-season-heres-a-cornucopia-of-cannabis-options-1068x580.jpg  \n",
            " extracting: /content/gdrive/MyDrive/Cannabis/male/cannabis-plant-against-blue-sky1200x628-facebook-1200x628.jpg  \n",
            " extracting: /content/gdrive/MyDrive/Cannabis/male/images39.jpg  \n",
            " extracting: /content/gdrive/MyDrive/Cannabis/male/EGdPCTBVAAAMrMJ.jpg  \n",
            " extracting: /content/gdrive/MyDrive/Cannabis/male/maxresdefault.jpg  \n",
            " extracting: /content/gdrive/MyDrive/Cannabis/male/images40.jpg  \n",
            " extracting: /content/gdrive/MyDrive/Cannabis/male/52336417-0-image-a-16_1640789739141.jpg  \n",
            " extracting: /content/gdrive/MyDrive/Cannabis/male/close-up-male-cannabis-plant-pollen-stock-photograph_csp76778897.jpg  \n",
            " extracting: /content/gdrive/MyDrive/Cannabis/male/image22.jpg  \n",
            " extracting: /content/gdrive/MyDrive/Cannabis/male/close-up-male-cannabis-plant-pollen-stock-photograph_csp76778894.jpg  \n",
            " extracting: /content/gdrive/MyDrive/Cannabis/male/close-up-male-cannabis-plant-pollen-stock-photograph_csp76778895.jpg  \n",
            " extracting: /content/gdrive/MyDrive/Cannabis/male/FTOdqb_UYAA2cDF.jpg  \n",
            " extracting: /content/gdrive/MyDrive/Cannabis/male/EJ_9jbYW4AEdECm.jpg  \n",
            " extracting: /content/gdrive/MyDrive/Cannabis/male/69251233.jpg  \n",
            " extracting: /content/gdrive/MyDrive/Cannabis/male/male_auto_flowering.jpg  \n",
            " extracting: /content/gdrive/MyDrive/Cannabis/male/s-l1600.jpg  \n",
            " extracting: /content/gdrive/MyDrive/Cannabis/male/depositphotos_164650662-stock-photo-cannabis-plant-pollen-sacs.jpg  \n",
            " extracting: /content/gdrive/MyDrive/Cannabis/male/ground-male-cannabis-plant-showing-pollen-sacks-hanging-off-a-branch-2AACKPC.jpg  \n",
            " extracting: /content/gdrive/MyDrive/Cannabis/male/male-cannabis-plant-purple-pollan-260nw-1017121468.jpg  \n",
            " extracting: /content/gdrive/MyDrive/Cannabis/male/-bump-cannabis-plant-concept-farm-marijuana-plantation-can-of-cannabis-buds-.jpg  \n",
            " extracting: /content/gdrive/MyDrive/Cannabis/male/6-18-dad-method-cannabis-tie-down.jpg  \n",
            " extracting: /content/gdrive/MyDrive/Cannabis/male/depositphotos_439776654-stock-photo-young-new-cannabis-plant-growing.jpg  \n",
            " extracting: /content/gdrive/MyDrive/Cannabis/male/1549024960.jpg  \n",
            " extracting: /content/gdrive/MyDrive/Cannabis/male/early-male-cannabis-plant-260nw-681293575.jpg  \n",
            " extracting: /content/gdrive/MyDrive/Cannabis/male/84911228-pollen-sacs-of-a-male-cannabis-plant-of-the-indica-strain.jpg  \n",
            " extracting: /content/gdrive/MyDrive/Cannabis/male/117903989-detail-of-male-cannabis-plant-with-seed-pods-isolated-over-white-background.jpg  \n",
            " extracting: /content/gdrive/MyDrive/Cannabis/male/3-male-flower-of-cannabis-plant-ted-kinsman.jpg  \n",
            " extracting: /content/gdrive/MyDrive/Cannabis/male/85099343-pollen-sacs-of-a-male-cannabis-plant-of-the-indica-strain.jpg  \n",
            " extracting: /content/gdrive/MyDrive/Cannabis/male/unsplash-image-HrRm_V-V0sM.jpg  \n",
            " extracting: /content/gdrive/MyDrive/Cannabis/male/huge-male-cannabis-plants-600w-1014143392.jpg  \n",
            " extracting: /content/gdrive/MyDrive/Cannabis/male/662.jpg  \n",
            " extracting: /content/gdrive/MyDrive/Cannabis/male/4101443.jpg  \n",
            " extracting: /content/gdrive/MyDrive/Cannabis/male/What-Are-Cannabis-Mutations.jpg  \n",
            " extracting: /content/gdrive/MyDrive/Cannabis/male/rotated_right_way_up.jpg  \n",
            " extracting: /content/gdrive/MyDrive/Cannabis/male/84911227-pollen-covered-leaf-of-a-male-cannabis-plant-of-the-indica-strain.jpg  \n",
            " extracting: /content/gdrive/MyDrive/Cannabis/male/b8e9e3ef684fdf50090266cf79296befacbd208f.jpeg  \n",
            " extracting: /content/gdrive/MyDrive/Cannabis/male/white-male-hand-holds-and-inspects-a-cannabis-plant-with-a-earth-soil-JGJ4B2.jpg  \n",
            " extracting: /content/gdrive/MyDrive/Cannabis/male/ground-male-cannabis-plant-showing-pollen-sacks-hanging-off-a-branch-2AACKK8.jpg  \n",
            " extracting: /content/gdrive/MyDrive/Cannabis/male/bis-plant-flower-and-seeds-marina-california-united-states-of-america-T74A7T.jpg  \n",
            " extracting: /content/gdrive/MyDrive/Cannabis/male/t-de-cannabis-males-et-fleurs-marina-californie-etats-unis-d-amerique-t749ne.jpg  \n",
            " extracting: /content/gdrive/MyDrive/Cannabis/male/aves-cannabis-on-a-blurry-background-beautiful-background-indoor-cultivation.jpg  \n",
            " extracting: /content/gdrive/MyDrive/Cannabis/male/close-up-male-cannabis-plant-showing-pollen-sacks.jpg  \n",
            " extracting: /content/gdrive/MyDrive/Cannabis/male/1-male-flower-of-cannabis-plant-ted-kinsman.jpg  \n",
            " extracting: /content/gdrive/MyDrive/Cannabis/male/7R201394.jpg  \n",
            " extracting: /content/gdrive/MyDrive/Cannabis/male/esy-058957534.jpg  \n",
            " extracting: /content/gdrive/MyDrive/Cannabis/male/GettyImages-1038775246-e1569602541610.jpg  \n",
            " extracting: /content/gdrive/MyDrive/Cannabis/male/bis-plant-flower-and-seeds-marina-california-united-states-of-america-T749PF.jpg  \n",
            " extracting: /content/gdrive/MyDrive/Cannabis/male/Beyond-the-Cannabis-sativa-plant-The-Era-of-cannabinoids-started-with-the-description_Q640.jpg  \n",
            " extracting: /content/gdrive/MyDrive/Cannabis/male/69251267.jpg  \n",
            " extracting: /content/gdrive/MyDrive/Cannabis/male/c0435141-800px-wm.jpg  \n",
            " extracting: /content/gdrive/MyDrive/Cannabis/male/c0445549-800px-wm.jpg  \n",
            " extracting: /content/gdrive/MyDrive/Cannabis/male/Is-it-Legal-to-Manufacture-Marijuana-Concentrates.jpg  \n",
            " extracting: /content/gdrive/MyDrive/Cannabis/male/c0445551-800px-wm.jpg  \n",
            " extracting: /content/gdrive/MyDrive/Cannabis/male/depositphotos_303470324-stock-photo-cannabis-male-plants-hermies-bananas.jpg  \n",
            " extracting: /content/gdrive/MyDrive/Cannabis/male/I0000Vj.aj.Q0p_I.jpg  \n",
            " extracting: /content/gdrive/MyDrive/Cannabis/male/Male-Plant-1.jpg  \n",
            " extracting: /content/gdrive/MyDrive/Cannabis/male/blur-cannabis-close-up-606506.jpg  \n",
            " extracting: /content/gdrive/MyDrive/Cannabis/male/branch-male-cannabis-plant_200040-1688.jpg  \n",
            " extracting: /content/gdrive/MyDrive/Cannabis/male/branch-male-cannabis-plant_200040-2726.jpg  \n",
            " extracting: /content/gdrive/MyDrive/Cannabis/male/I0000lNZXzt7QTOE.jpg  \n",
            " extracting: /content/gdrive/MyDrive/Cannabis/male/branch-male-cannabis-plant_200040-2262.jpg  \n",
            " extracting: /content/gdrive/MyDrive/Cannabis/male/CRTV-3430_2020_Design-Language_Plant_043-2.jpg  \n",
            " extracting: /content/gdrive/MyDrive/Cannabis/male/276248989.jpg  \n",
            " extracting: /content/gdrive/MyDrive/Cannabis/male/depositphotos_344878830-stock-photo-young-male-cannabis-bush-plant.jpg  \n",
            " extracting: /content/gdrive/MyDrive/Cannabis/male/388331401.jpg  \n",
            " extracting: /content/gdrive/MyDrive/Cannabis/male/201791347.jpg  \n",
            " extracting: /content/gdrive/MyDrive/Cannabis/male/276249004.jpg  \n",
            " extracting: /content/gdrive/MyDrive/Cannabis/male/388327174.jpg  \n",
            " extracting: /content/gdrive/MyDrive/Cannabis/male/cannabis-scaled.jpg  \n",
            " extracting: /content/gdrive/MyDrive/Cannabis/male/mature-male-cannabis-plant-ready-pollination-closeup-158671699.jpg  \n",
            " extracting: /content/gdrive/MyDrive/Cannabis/male/pollen-sacs-male-cannabis-plant-indica-strain-cannabis-plant-pollen-sacs-98828352.jpg  \n",
            " extracting: /content/gdrive/MyDrive/Cannabis/male/ds-gloved-hand-over-pot-earth-young-male-cannabis-bush-plant-small-172732296.jpg  \n",
            " extracting: /content/gdrive/MyDrive/Cannabis/male/420-magazine-mobile580109790.jpg  \n",
            " extracting: /content/gdrive/MyDrive/Cannabis/male/stock-photo-growing-male-hemp-identify-cannabis-male-plants-hermies-bananas-1497717587.jpg  \n",
            " extracting: /content/gdrive/MyDrive/Cannabis/male/800px-Young_cannabis.jpg  \n",
            " extracting: /content/gdrive/MyDrive/Cannabis/male/2026e69d1f18d044e40d85ea402e4ee4--indoor.jpg  \n",
            " extracting: /content/gdrive/MyDrive/Cannabis/male/male-cannabis-closeup.png  \n",
            " extracting: /content/gdrive/MyDrive/Cannabis/male/766px-Cannabis_ruderalis_28wild_marijuana2C_male29.jpg  \n",
            " extracting: /content/gdrive/MyDrive/Cannabis/male/male-ecologist-smelling-marijuana-plant-at-farm-PNAF00236.jpg  \n",
            " extracting: /content/gdrive/MyDrive/Cannabis/male/Male_hemp_flowers.jpg  \n",
            " extracting: /content/gdrive/MyDrive/Cannabis/male/Cannabis_ruderalis_28wild_marijuana2C_male_flowers29..jpg  \n",
            " extracting: /content/gdrive/MyDrive/Cannabis/male/Cannabis_ruderalis_male_plant.jpg  \n",
            " extracting: /content/gdrive/MyDrive/Cannabis/male/focused_266522132-stock-photo-close-young-male-cannabis-plant.jpg  \n",
            " extracting: /content/gdrive/MyDrive/Cannabis/male/12545750comp.jpg  \n",
            " extracting: /content/gdrive/MyDrive/Cannabis/male/Morocco-cannabis-farmer-removing-male-plants-crop-Katama-scaled.jpeg  \n"
          ]
        }
      ]
    },
    {
      "cell_type": "code",
      "source": [],
      "metadata": {
        "id": "LKlX72XnkYKD"
      },
      "execution_count": null,
      "outputs": []
    },
    {
      "cell_type": "code",
      "source": [
        "filenames_males=os.listdir(\"/content/gdrive/MyDrive/Cannabis/male\")\n",
        "filenames_females=os.listdir(\"/content/gdrive/MyDrive/Cannabis/female\")\n",
        "\n",
        "\n",
        "categories=[]\n",
        "\n",
        "for f_name in filenames_males:\n",
        "        categories.append(1)\n",
        "for f_female in filenames_females:\n",
        "        categories.append(0)\n",
        "\n",
        "df=pd.DataFrame({\n",
        "    'filename': filenames_males + filenames_females,\n",
        "    'category':categories\n",
        "})\n",
        "\"\"\"print(df[\"category\"])\"\"\"\n",
        "\"\"\"print(df[\"filename\"])\"\"\"\n"
      ],
      "metadata": {
        "colab": {
          "base_uri": "https://localhost:8080/",
          "height": 35
        },
        "id": "i-OvlhJQe_Qq",
        "outputId": "2b8608d8-b212-440c-8b69-715b22a6532c"
      },
      "execution_count": 221,
      "outputs": [
        {
          "output_type": "execute_result",
          "data": {
            "text/plain": [
              "'print(df[\"filename\"])'"
            ],
            "application/vnd.google.colaboratory.intrinsic+json": {
              "type": "string"
            }
          },
          "metadata": {},
          "execution_count": 221
        }
      ]
    },
    {
      "cell_type": "code",
      "source": [
        "from keras.models import Sequential\n",
        "from keras.layers import Conv2D,MaxPooling2D,\\\n",
        "     Dropout,Flatten,Dense,Activation,\\\n",
        "     BatchNormalization\n",
        "\n",
        "model=Sequential()\n",
        "\n",
        "model.add(Conv2D(32,(3,3),activation='relu',input_shape=(Image_Width,Image_Height,Image_Channels)))\n",
        "model.add(BatchNormalization())\n",
        "model.add(MaxPooling2D(pool_size=(2,2)))\n",
        "model.add(Dropout(0.25))\n",
        "\n",
        "model.add(Conv2D(64,(3,3),activation='relu'))\n",
        "model.add(BatchNormalization())\n",
        "model.add(MaxPooling2D(pool_size=(2,2)))\n",
        "model.add(Dropout(0.25))\n",
        "\n",
        "model.add(Conv2D(128,(3,3),activation='relu'))\n",
        "model.add(BatchNormalization())\n",
        "model.add(MaxPooling2D(pool_size=(2,2)))\n",
        "model.add(Dropout(0.25))\n",
        "\n",
        "model.add(Flatten())\n",
        "model.add(Dense(512,activation='relu'))\n",
        "model.add(BatchNormalization())\n",
        "model.add(Dropout(0.5))\n",
        "model.add(Dense(2,activation='softmax'))\n",
        "\n",
        "model.compile(loss='categorical_crossentropy',\n",
        "  optimizer='rmsprop',metrics=['accuracy'])"
      ],
      "metadata": {
        "id": "fB9AcsxMg_sz"
      },
      "execution_count": 222,
      "outputs": []
    },
    {
      "cell_type": "code",
      "source": [
        "model.summary()"
      ],
      "metadata": {
        "colab": {
          "base_uri": "https://localhost:8080/"
        },
        "id": "MQMpY2xDqeWb",
        "outputId": "1e1fb032-6549-48b8-bb1a-63f6b9bb8a9a"
      },
      "execution_count": 223,
      "outputs": [
        {
          "output_type": "stream",
          "name": "stdout",
          "text": [
            "Model: \"sequential_5\"\n",
            "_________________________________________________________________\n",
            " Layer (type)                Output Shape              Param #   \n",
            "=================================================================\n",
            " conv2d_15 (Conv2D)          (None, 298, 298, 32)      896       \n",
            "                                                                 \n",
            " batch_normalization_20 (Bat  (None, 298, 298, 32)     128       \n",
            " chNormalization)                                                \n",
            "                                                                 \n",
            " max_pooling2d_15 (MaxPoolin  (None, 149, 149, 32)     0         \n",
            " g2D)                                                            \n",
            "                                                                 \n",
            " dropout_20 (Dropout)        (None, 149, 149, 32)      0         \n",
            "                                                                 \n",
            " conv2d_16 (Conv2D)          (None, 147, 147, 64)      18496     \n",
            "                                                                 \n",
            " batch_normalization_21 (Bat  (None, 147, 147, 64)     256       \n",
            " chNormalization)                                                \n",
            "                                                                 \n",
            " max_pooling2d_16 (MaxPoolin  (None, 73, 73, 64)       0         \n",
            " g2D)                                                            \n",
            "                                                                 \n",
            " dropout_21 (Dropout)        (None, 73, 73, 64)        0         \n",
            "                                                                 \n",
            " conv2d_17 (Conv2D)          (None, 71, 71, 128)       73856     \n",
            "                                                                 \n",
            " batch_normalization_22 (Bat  (None, 71, 71, 128)      512       \n",
            " chNormalization)                                                \n",
            "                                                                 \n",
            " max_pooling2d_17 (MaxPoolin  (None, 35, 35, 128)      0         \n",
            " g2D)                                                            \n",
            "                                                                 \n",
            " dropout_22 (Dropout)        (None, 35, 35, 128)       0         \n",
            "                                                                 \n",
            " flatten_5 (Flatten)         (None, 156800)            0         \n",
            "                                                                 \n",
            " dense_10 (Dense)            (None, 512)               80282112  \n",
            "                                                                 \n",
            " batch_normalization_23 (Bat  (None, 512)              2048      \n",
            " chNormalization)                                                \n",
            "                                                                 \n",
            " dropout_23 (Dropout)        (None, 512)               0         \n",
            "                                                                 \n",
            " dense_11 (Dense)            (None, 2)                 1026      \n",
            "                                                                 \n",
            "=================================================================\n",
            "Total params: 80,379,330\n",
            "Trainable params: 80,377,858\n",
            "Non-trainable params: 1,472\n",
            "_________________________________________________________________\n"
          ]
        }
      ]
    },
    {
      "cell_type": "code",
      "source": [
        "from keras.callbacks import EarlyStopping, ReduceLROnPlateau\n",
        "earlystop = EarlyStopping(patience = 10)\n",
        "learning_rate_reduction = ReduceLROnPlateau(monitor = 'val_acc',patience = 2,verbose = 1,factor = 0.5,min_lr = 0.00001)\n",
        "callbacks = [earlystop,learning_rate_reduction]"
      ],
      "metadata": {
        "id": "oF2iXfnNqo8C"
      },
      "execution_count": 224,
      "outputs": []
    },
    {
      "cell_type": "code",
      "source": [
        "df[\"category\"] = df[\"category\"].replace({0:'female',1:'male'})\n",
        "train_df,validate_df = train_test_split(df,test_size=0.20,\n",
        "  random_state=42)\n",
        "\n",
        "train_df = train_df.reset_index(drop=True)\n",
        "validate_df = validate_df.reset_index(drop=True)\n",
        "\n",
        "print(train_df)\n",
        "print(validate_df)\n",
        "\n",
        "\n",
        "total_train=train_df.shape[0]\n",
        "total_validate=validate_df.shape[0]\n",
        "batch_size=15"
      ],
      "metadata": {
        "colab": {
          "base_uri": "https://localhost:8080/"
        },
        "id": "pmj4tZT6qtDl",
        "outputId": "1e73fb3d-f449-44d0-a132-de31d3a55e4c"
      },
      "execution_count": 225,
      "outputs": [
        {
          "output_type": "stream",
          "name": "stdout",
          "text": [
            "                                              filename category\n",
            "0                  blueberry-healthy-flowering-bud.jpg   female\n",
            "1                                         images34.jpg     male\n",
            "2                                  EGdPCTBVAAAMrMJ.jpg     male\n",
            "3    flower_md_farms_photo_credit_jennifer_skog_009...   female\n",
            "4                                          image3.jpeg     male\n",
            "..                                                 ...      ...\n",
            "295                                       images31.jpg     male\n",
            "296  117903989-detail-of-male-cannabis-plant-with-s...     male\n",
            "297                                       images70.jpg   female\n",
            "298  A-female-C-sativa-B-portion-of-the-female-flow...   female\n",
            "299  depositphotos_439776654-stock-photo-young-new-...     male\n",
            "\n",
            "[300 rows x 2 columns]\n",
            "                                             filename category\n",
            "0                                         vector2.svg   female\n",
            "1                                        image20.jpeg     male\n",
            "2                                         image2.jpeg     male\n",
            "3   100-e9e5ffcd0920f7e50fd7d6f089e836dfd8f1c493c1...   female\n",
            "4                                        images23.jpg     male\n",
            "..                                                ...      ...\n",
            "70                                       69251233.jpg     male\n",
            "71                                        images3.jpg   female\n",
            "72                                  esy-023969850.jpg   female\n",
            "73  138279011_115136133797672_9148976075439560217_...   female\n",
            "74                           l9rddk89p8ztwetmxeti.jpg   female\n",
            "\n",
            "[75 rows x 2 columns]\n"
          ]
        }
      ]
    },
    {
      "cell_type": "code",
      "source": [
        "train_datagen = ImageDataGenerator(rotation_range=15,\n",
        "                                rescale=1./255,\n",
        "                                shear_range=0.1,\n",
        "                                zoom_range=0.2,\n",
        "                                horizontal_flip=True,\n",
        "                                width_shift_range=0.1,\n",
        "                                height_shift_range=0.1\n",
        "                                )\n",
        "\n",
        "train_generator = train_datagen.flow_from_dataframe(train_df,\n",
        "                                                 \"/content/gdrive/MyDrive/Cannabis/\",x_col='filename',y_col='category',\n",
        "                                                 target_size=Image_Size,\n",
        "                                                 class_mode='categorical',\n",
        "                                                 batch_size=batch_size)\n",
        "\n",
        "\n",
        "\n",
        "\n",
        "validation_datagen = ImageDataGenerator(rescale=1./255)\n",
        "validation_generator = validation_datagen.flow_from_dataframe(\n",
        "    validate_df, \n",
        "    \"/content/gdrive/MyDrive/Cannabis/\", \n",
        "    x_col='filename',\n",
        "    y_col='category',\n",
        "    target_size=Image_Size,\n",
        "    class_mode='categorical',\n",
        "    batch_size=batch_size\n",
        ")\n",
        "\n",
        "test_datagen = ImageDataGenerator(rotation_range=15,\n",
        "                                rescale=1./255,\n",
        "                                shear_range=0.1,\n",
        "                                zoom_range=0.2,\n",
        "                                horizontal_flip=True,\n",
        "                                width_shift_range=0.1,\n",
        "                                height_shift_range=0.1)\n",
        "\n",
        "test_generator = train_datagen.flow_from_dataframe(train_df,\n",
        "                                                 \"/content/gdrive/MyDrive/Cannabis/test/\",x_col='filename',y_col='category',\n",
        "                                                 target_size=Image_Size,\n",
        "                                                 class_mode='categorical',\n",
        "                                                 batch_size=batch_size)"
      ],
      "metadata": {
        "colab": {
          "base_uri": "https://localhost:8080/"
        },
        "id": "l9JfLGEmq39y",
        "outputId": "6c8fc23c-8f19-4cea-8cfc-dc24733e9112"
      },
      "execution_count": 226,
      "outputs": [
        {
          "output_type": "stream",
          "name": "stdout",
          "text": [
            "Found 272 validated image filenames belonging to 2 classes.\n",
            "Found 66 validated image filenames belonging to 2 classes.\n",
            "Found 4 validated image filenames belonging to 2 classes.\n"
          ]
        },
        {
          "output_type": "stream",
          "name": "stderr",
          "text": [
            "/usr/local/lib/python3.8/dist-packages/keras/preprocessing/image.py:989: UserWarning: Found 28 invalid image filename(s) in x_col=\"filename\". These filename(s) will be ignored.\n",
            "  warnings.warn('Found {} invalid image filename(s) in x_col=\"{}\". '\n",
            "/usr/local/lib/python3.8/dist-packages/keras/preprocessing/image.py:989: UserWarning: Found 9 invalid image filename(s) in x_col=\"filename\". These filename(s) will be ignored.\n",
            "  warnings.warn('Found {} invalid image filename(s) in x_col=\"{}\". '\n",
            "/usr/local/lib/python3.8/dist-packages/keras/preprocessing/image.py:989: UserWarning: Found 296 invalid image filename(s) in x_col=\"filename\". These filename(s) will be ignored.\n",
            "  warnings.warn('Found {} invalid image filename(s) in x_col=\"{}\". '\n"
          ]
        }
      ]
    },
    {
      "cell_type": "code",
      "source": [
        "\n",
        "epochs=32\n",
        "history = model.fit(\n",
        "    train_generator, \n",
        "    epochs=epochs,\n",
        "    verbose = 1,\n",
        "    validation_data=validation_generator,\n",
        "    validation_steps=total_validate//batch_size,\n",
        "    steps_per_epoch=total_train//batch_size,\n",
        "    callbacks=callbacks\n",
        ")"
      ],
      "metadata": {
        "colab": {
          "base_uri": "https://localhost:8080/"
        },
        "id": "58tw5kC2rpMD",
        "outputId": "8d1c712f-4fd6-4f3d-d201-e972021443f8"
      },
      "execution_count": 227,
      "outputs": [
        {
          "output_type": "stream",
          "name": "stdout",
          "text": [
            "Epoch 1/32\n",
            "19/20 [===========================>..] - ETA: 0s - loss: 1.5900 - accuracy: 0.5699"
          ]
        },
        {
          "output_type": "stream",
          "name": "stderr",
          "text": [
            "WARNING:tensorflow:Your input ran out of data; interrupting training. Make sure that your dataset or generator can generate at least `steps_per_epoch * epochs` batches (in this case, 640 batches). You may need to use the repeat() function when building your dataset.\n",
            "WARNING:tensorflow:Learning rate reduction is conditioned on metric `val_acc` which is not available. Available metrics are: loss,accuracy,val_loss,val_accuracy,lr\n"
          ]
        },
        {
          "output_type": "stream",
          "name": "stdout",
          "text": [
            "\b\b\b\b\b\b\b\b\b\b\b\b\b\b\b\b\b\b\b\b\b\b\b\b\b\b\b\b\b\b\b\b\b\b\b\b\b\b\b\b\b\b\b\b\b\b\b\b\b\b\b\b\b\b\b\b\b\b\b\b\b\b\b\b\b\b\b\b\b\b\b\b\b\b\b\b\b\b\b\b\b\b\r20/20 [==============================] - 12s 505ms/step - loss: 1.5900 - accuracy: 0.5699 - val_loss: 1.1747 - val_accuracy: 0.4394 - lr: 0.0010\n"
          ]
        }
      ]
    },
    {
      "cell_type": "code",
      "source": [
        "model.save(\"model1_Cannabis_10epoch.h5\")"
      ],
      "metadata": {
        "id": "Vum2Jz3Gsp3J"
      },
      "execution_count": 228,
      "outputs": []
    },
    {
      "cell_type": "code",
      "source": [
        "test_filenames = os.listdir(\"/content/gdrive/MyDrive/Cannabis/test1\")\n",
        "test_df = pd.DataFrame({\n",
        "    'filename': test_filenames\n",
        "    \n",
        "})\n",
        "nb_samples = test_df.shape[0]\n",
        "print(test_df)"
      ],
      "metadata": {
        "colab": {
          "base_uri": "https://localhost:8080/"
        },
        "id": "S4m9prqAswlm",
        "outputId": "56b3ae99-7ee0-46c3-ce77-43d4c74a7fbc"
      },
      "execution_count": 229,
      "outputs": [
        {
          "output_type": "stream",
          "name": "stdout",
          "text": [
            "                                            filename\n",
            "0                                           m-c.jpeg\n",
            "1                                 .ipynb_checkpoints\n",
            "2       2026e69d1f18d044e40d85ea402e4ee4--indoor.jpg\n",
            "3  stock-photo-growing-male-hemp-identify-cannabi...\n"
          ]
        }
      ]
    },
    {
      "cell_type": "code",
      "source": [
        "predict = model.predict(test_generator, steps=np.ceil(nb_samples/batch_size))\n",
        "print(*predict)"
      ],
      "metadata": {
        "colab": {
          "base_uri": "https://localhost:8080/"
        },
        "id": "A8X4zEVOtoW6",
        "outputId": "96d34f21-e7a9-4912-bde7-1827f510854c"
      },
      "execution_count": 230,
      "outputs": [
        {
          "output_type": "stream",
          "name": "stdout",
          "text": [
            "1/1 [==============================] - 0s 209ms/step\n",
            "[0.86885625 0.13114381] [0.1156065 0.8843935] [0.89198256 0.10801747] [0.674417   0.32558295]\n"
          ]
        }
      ]
    },
    {
      "cell_type": "code",
      "source": [
        "test_df['category'] = np.argmax(predict, axis=-1)\n",
        "label_map = dict((v,k) for k,v in train_generator.class_indices.items())\n",
        "test_df['category'] = test_df['category'].replace(label_map)\n",
        "test_df['category'] = test_df['category'].replace({ 'male': 1, 'female': 0 })"
      ],
      "metadata": {
        "id": "tDVGJW0ottOn"
      },
      "execution_count": 231,
      "outputs": []
    },
    {
      "cell_type": "code",
      "source": [
        "sample_test = test_df.head(18)\n",
        "sample_test.head()\n",
        "plt.figure(figsize=(12, 24))\n",
        "for index, row in sample_test.iterrows():\n",
        "    filename = row['filename']\n",
        "    category = row['category']\n",
        "    if not filename == \".ipynb_checkpoints\":\n",
        "      img = load_img(\"/content/gdrive/MyDrive/Cannabis/test1/\"+filename, target_size=Image_Size)\n",
        "    plt.subplot(6, 3, index+1)\n",
        "    plt.imshow(img)\n",
        "    plt.xlabel(filename + '(' + \"{}\".format(category) + ')' )\n",
        "plt.tight_layout()\n",
        "plt.show()"
      ],
      "metadata": {
        "colab": {
          "base_uri": "https://localhost:8080/",
          "height": 464
        },
        "outputId": "0b31b784-cdba-43c4-f1f9-0ea7e956fc96",
        "id": "W0Tcwu2a_51G"
      },
      "execution_count": 232,
      "outputs": [
        {
          "output_type": "display_data",
          "data": {
            "text/plain": [
              "<Figure size 864x1728 with 4 Axes>"
            ],
            "image/png": "[encoded data removed]"
          },
          "metadata": {
            "needs_background": "light"
          }
        }
      ]
    },
    {
      "cell_type": "code",
      "source": [
        "results={\n",
        "    0:'female',\n",
        "    1:'male'\n",
        "}\n",
        "from PIL import Image\n",
        "import numpy as np\n",
        "im=Image.open(\"/content/gdrive/MyDrive/Cannabis/img-a-predecir/m.jpeg\")\n",
        "im=im.resize(Image_Size)\n",
        "im=np.expand_dims(im,axis=0)\n",
        "im=np.array(im)\n",
        "im=im/255\n",
        "\n",
        "predict_x=model.predict(test_generator) \n",
        "classes_x=np.argmax(predict_x,axis=1)\n",
        "if (sum(classes_x) > 0 ):\n",
        "  print(\"macho\")\n",
        "else :\n",
        "  print(\"hembra\")\n",
        "\n",
        "print(*classes_x)\n"
      ],
      "metadata": {
        "colab": {
          "base_uri": "https://localhost:8080/"
        },
        "id": "yJusVItSAjuc",
        "outputId": "e3bc98ad-7325-488d-9a1b-1a9cb185c437"
      },
      "execution_count": 238,
      "outputs": [
        {
          "output_type": "stream",
          "name": "stdout",
          "text": [
            "1/1 [==============================] - 0s 109ms/step\n",
            "macho\n",
            "1 0 0 1\n"
          ]
        }
      ]
    }
  ]
}